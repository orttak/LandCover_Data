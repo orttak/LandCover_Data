{
 "cells": [
  {
   "cell_type": "code",
   "execution_count": null,
   "metadata": {},
   "outputs": [],
   "source": [
    "from netCDF4 import Dataset"
   ]
  },
  {
   "cell_type": "code",
   "execution_count": 1,
   "metadata": {},
   "outputs": [],
   "source": [
    "def ListofExtensionAndName(directory,extension):\n",
    "     \n",
    "        if len(directory) != None:\n",
    "            import os\n",
    "            FilesList = []\n",
    "            FileName=[]\n",
    "            for root, subdirectory, files in os.walk(directory):\n",
    "                for file in files:\n",
    "                    if file.endswith(extension):\n",
    "                        FilesList.append(os.path.join(root,file))\n",
    "                        base=os.path.basename(file)\n",
    "                        FileName.append(os.path.splitext(base)[0])\n",
    "\n",
    "            return sorted(FilesList),sorted(FileName)\n",
    "        else:\n",
    "            print(\"no\"+ extension +\"file for this directory\")"
   ]
  },
  {
   "cell_type": "code",
   "execution_count": 2,
   "metadata": {},
   "outputs": [],
   "source": [
    "cci=ListofExtensionAndName('../geoserver_data/2020_CCI','.nc')"
   ]
  },
  {
   "cell_type": "code",
   "execution_count": 5,
   "metadata": {},
   "outputs": [
    {
     "data": {
      "text/plain": [
       "27"
      ]
     },
     "execution_count": 5,
     "metadata": {},
     "output_type": "execute_result"
    }
   ],
   "source": [
    "len(cci[0])"
   ]
  },
  {
   "cell_type": "code",
   "execution_count": 11,
   "metadata": {},
   "outputs": [],
   "source": [
    "#convert nc file to geotiff with .bat file in command line \n",
    "for index,i in enumerate(cci[0],0):\n",
    "    #var_name could be change depend on your data. exampe >> ndvi \n",
    "    var_name='lccs_class'\n",
    "    subdataset = 'NETCDF:../geoserver_data/2020_CCI/'+ cci[1][index] +'.nc'+':' + var_name\n",
    "    # other datasets could need 'lat-lon' as a variable\n",
    "    # from netCDF4 import Dataset\n",
    "    # data=Dataset(i)\n",
    "    \n",
    "    #lon_min=data.geospatial_lon_min\n",
    "    #lat_max=data.geospatial_lat_max    \n",
    "    #lon_max=data.geospatial_lon_max\n",
    "    #lat_min=data.geospatial_lat_min\n",
    "    \n",
    "    dst = i[:-7]+'.tif'\n",
    "    cmd = 'gdalwarp -of Gtiff -co COMPRESS=LZW -co TILED=YES -ot Byte -te -180.0000000 -90.0000000 180.0000000 90.0000000 -tr 0.002777777777778 0.002777777777778 -t_srs EPSG:4326'\n",
    "    \n",
    "    translate_path= '../geoserver_data/2020_CCI/CCI_tif/'\n",
    "    MozaikPath =\"input mosaics\"\n",
    "    outputimg=translate_path+cci[1][index]+\".tif\"\n",
    "    translate_code= cmd + ' '+ subdataset + ' ' + outputimg\n",
    "\n",
    "    with open('./cci_translate.sh', 'a') as the_file:\n",
    "        the_file.write(translate_code+\"\\n\")\n",
    "                        \n",
    "             "
   ]
  },
  {
   "cell_type": "code",
   "execution_count": null,
   "metadata": {},
   "outputs": [],
   "source": []
  }
 ],
 "metadata": {
  "kernelspec": {
   "display_name": "Python 3",
   "language": "python",
   "name": "python3"
  },
  "language_info": {
   "codemirror_mode": {
    "name": "ipython",
    "version": 3
   },
   "file_extension": ".py",
   "mimetype": "text/x-python",
   "name": "python",
   "nbconvert_exporter": "python",
   "pygments_lexer": "ipython3",
   "version": "3.6.9"
  }
 },
 "nbformat": 4,
 "nbformat_minor": 4
}
