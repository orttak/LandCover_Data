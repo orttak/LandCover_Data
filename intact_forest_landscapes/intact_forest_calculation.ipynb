{
 "cells": [
  {
   "cell_type": "markdown",
   "metadata": {},
   "source": [
    "### Intact Forest data manipulation\n",
    "\n",
    "With these notebook, we can reproduce intact forest data as binary system. Pixel values are going to be 1 or 0. For this process, \n",
    "firstly, we create 512*512 tile from raw data, then we get data that over land area.(delete files that over sea) Then we change nodata value(-32768) to 0"
   ]
  },
  {
   "cell_type": "code",
   "execution_count": 1,
   "metadata": {},
   "outputs": [],
   "source": [
    "import geopandas as gpd\n",
    "from osgeo import gdal, ogr, osr\n",
    "import os\n",
    "import glob\n",
    "import numpy"
   ]
  },
  {
   "cell_type": "code",
   "execution_count": null,
   "metadata": {},
   "outputs": [],
   "source": [
    "raw_countries=gpd.read_file('fao/shp_from_un/BNDA25_CTY.shp')"
   ]
  },
  {
   "cell_type": "code",
   "execution_count": 116,
   "metadata": {},
   "outputs": [],
   "source": [
    "tifs_path=glob.glob('intact_forest/*tif')"
   ]
  },
  {
   "cell_type": "code",
   "execution_count": 169,
   "metadata": {},
   "outputs": [
    {
     "data": {
      "text/plain": [
       "['intact_forest/intact_forest_landscapes_2013.tif',\n",
       " 'intact_forest/intact_forest_landscapes_2000.tif',\n",
       " 'intact_forest/intact_forest_landscapes_2016.tif']"
      ]
     },
     "execution_count": 169,
     "metadata": {},
     "output_type": "execute_result"
    }
   ],
   "source": [
    "tifs_path"
   ]
  },
  {
   "cell_type": "code",
   "execution_count": 170,
   "metadata": {},
   "outputs": [
    {
     "name": "stdout",
     "output_type": "stream",
     "text": [
      "CPU times: user 190 ms, sys: 203 ms, total: 393 ms\n",
      "Wall time: 2min 14s\n"
     ]
    }
   ],
   "source": [
    "# we get image one by one so we use index number of list\n",
    "%%time\n",
    "for img in tifs_path[1:2]:\n",
    "    # define tiles path\n",
    "    path='intact_forest/tiles_2000'\n",
    "    input_path=img\n",
    "   \n",
    "    # name of tile image\n",
    "    output_path=path+'/intact_forest_tile_'\n",
    "    ds = gdal.Open(img)\n",
    "    band = ds.GetRasterBand(1)\n",
    "    xsize = band.XSize\n",
    "    ysize = band.YSize\n",
    "    # define your tile size\n",
    "    # it could be 256,512 or 1024. it depends on your scope\n",
    "    tile_size_x = 512\n",
    "    tile_size_y = 512\n",
    "    for i in range(0, xsize, tile_size_x):\n",
    "        if xsize-i < tile_size_x:\n",
    "            i=xsize-tile_size_x            \n",
    "        for j in range(0, ysize, tile_size_y):\n",
    "            if ysize-j < tile_size_y:\n",
    "                j=ysize-tile_size_y\n",
    "    \n",
    "            com_string = \"gdal_translate -of GTIFF -srcwin \" + str(i)+ \", \" + str(j) + \", \" + str(tile_size_x) + \", \" + str(tile_size_y) + \" \" + str(input_path)+ \" \" + str(output_path)  + str(i) + \"_\" + str(j) + \".tif\"\n",
    "            #print(com_string)\n",
    "            os.system(com_string)"
   ]
  },
  {
   "cell_type": "code",
   "execution_count": 171,
   "metadata": {},
   "outputs": [],
   "source": [
    "#get all tiles path\n",
    "tiles_path=glob.glob('intact_forest/tiles_2000/*.tif')\n",
    "\n",
    "txtfile='tileindex.txt'"
   ]
  },
  {
   "cell_type": "code",
   "execution_count": 173,
   "metadata": {},
   "outputs": [],
   "source": [
    "# we create tile index to intersect with world shp file\n",
    "for i in tiles_path:\n",
    "\n",
    "    with open(txtfile, 'a') as the_file:\n",
    "\n",
    "        the_file.write(i+\"\\n\")\n",
    "\n",
    "output_name='intact_forest/tile_index_shp/2000.shp'\n",
    "\n",
    "cmd=f'gdaltindex -tileindex location -t_srs EPSG:4326 -f \"ESRI Shapefile\" {output_name} --optfile {txtfile}'\n",
    "\n",
    "os.system(cmd)\n",
    "\n",
    "os.remove(txtfile)"
   ]
  },
  {
   "cell_type": "code",
   "execution_count": 174,
   "metadata": {},
   "outputs": [],
   "source": [
    "#read tile index file\n",
    "\n",
    "tile=gpd.read_file('intact_forest/tile_index_shp/2000.shp')"
   ]
  },
  {
   "cell_type": "code",
   "execution_count": 176,
   "metadata": {},
   "outputs": [],
   "source": [
    "#intersect with world shp file\n",
    "inter=gpd.overlay(tile, raw_countries, how='intersection')"
   ]
  },
  {
   "cell_type": "code",
   "execution_count": 193,
   "metadata": {},
   "outputs": [
    {
     "data": {
      "text/html": [
       "<div>\n",
       "<style scoped>\n",
       "    .dataframe tbody tr th:only-of-type {\n",
       "        vertical-align: middle;\n",
       "    }\n",
       "\n",
       "    .dataframe tbody tr th {\n",
       "        vertical-align: top;\n",
       "    }\n",
       "\n",
       "    .dataframe thead th {\n",
       "        text-align: right;\n",
       "    }\n",
       "</style>\n",
       "<table border=\"1\" class=\"dataframe\">\n",
       "  <thead>\n",
       "    <tr style=\"text-align: right;\">\n",
       "      <th></th>\n",
       "      <th>location</th>\n",
       "      <th>ISO3CD</th>\n",
       "      <th>ROMNAM</th>\n",
       "      <th>MAPLAB</th>\n",
       "      <th>CONTCD</th>\n",
       "      <th>MAPCLR</th>\n",
       "      <th>STSCOD</th>\n",
       "      <th>Shape_Leng</th>\n",
       "      <th>Shape_Area</th>\n",
       "      <th>geometry</th>\n",
       "    </tr>\n",
       "  </thead>\n",
       "  <tbody>\n",
       "    <tr>\n",
       "      <th>0</th>\n",
       "      <td>intact_forest/tiles_2000/intact_forest_tile_35...</td>\n",
       "      <td>CHN</td>\n",
       "      <td>China</td>\n",
       "      <td>China</td>\n",
       "      <td>ASI</td>\n",
       "      <td>CHN</td>\n",
       "      <td>1</td>\n",
       "      <td>304.899042</td>\n",
       "      <td>948.513659</td>\n",
       "      <td>POLYGON ((125.95743 52.73381, 124.76886 52.733...</td>\n",
       "    </tr>\n",
       "    <tr>\n",
       "      <th>1</th>\n",
       "      <td>intact_forest/tiles_2000/intact_forest_tile_33...</td>\n",
       "      <td>CHN</td>\n",
       "      <td>China</td>\n",
       "      <td>China</td>\n",
       "      <td>ASI</td>\n",
       "      <td>CHN</td>\n",
       "      <td>1</td>\n",
       "      <td>304.899042</td>\n",
       "      <td>948.513659</td>\n",
       "      <td>MULTIPOLYGON (((116.26966 45.76242, 116.26966 ...</td>\n",
       "    </tr>\n",
       "  </tbody>\n",
       "</table>\n",
       "</div>"
      ],
      "text/plain": [
       "                                            location ISO3CD ROMNAM MAPLAB  \\\n",
       "0  intact_forest/tiles_2000/intact_forest_tile_35...    CHN  China  China   \n",
       "1  intact_forest/tiles_2000/intact_forest_tile_33...    CHN  China  China   \n",
       "\n",
       "  CONTCD MAPCLR  STSCOD  Shape_Leng  Shape_Area  \\\n",
       "0    ASI    CHN       1  304.899042  948.513659   \n",
       "1    ASI    CHN       1  304.899042  948.513659   \n",
       "\n",
       "                                            geometry  \n",
       "0  POLYGON ((125.95743 52.73381, 124.76886 52.733...  \n",
       "1  MULTIPOLYGON (((116.26966 45.76242, 116.26966 ...  "
      ]
     },
     "execution_count": 193,
     "metadata": {},
     "output_type": "execute_result"
    }
   ],
   "source": [
    "inter.head(2)"
   ]
  },
  {
   "cell_type": "code",
   "execution_count": 178,
   "metadata": {},
   "outputs": [],
   "source": [
    "#to get the name of the files which our target images, we just get location column\n",
    "intersect_list=inter['location']"
   ]
  },
  {
   "cell_type": "code",
   "execution_count": 127,
   "metadata": {},
   "outputs": [],
   "source": [
    "#we can export data as shp file but it's not necessary now\n",
    "#inter.to_file('intact_forest/interect_shp/2000.shp',driver='ESRI Shapefile')"
   ]
  },
  {
   "cell_type": "code",
   "execution_count": 181,
   "metadata": {},
   "outputs": [
    {
     "data": {
      "text/plain": [
       "2541"
      ]
     },
     "execution_count": 181,
     "metadata": {},
     "output_type": "execute_result"
    }
   ],
   "source": [
    "#create list of the name\n",
    "tif_basename=[os.path.basename(i) for i in intersect_list]\n",
    "len(tif_basename)"
   ]
  },
  {
   "cell_type": "code",
   "execution_count": 182,
   "metadata": {},
   "outputs": [],
   "source": [
    "# we eliminate the duplicate name with 'set'\n",
    "tif_basename=list(set(tif_basename))"
   ]
  },
  {
   "cell_type": "code",
   "execution_count": 183,
   "metadata": {},
   "outputs": [
    {
     "data": {
      "text/plain": [
       "1347"
      ]
     },
     "execution_count": 183,
     "metadata": {},
     "output_type": "execute_result"
    }
   ],
   "source": [
    "len(tif_basename)"
   ]
  },
  {
   "cell_type": "code",
   "execution_count": 184,
   "metadata": {},
   "outputs": [],
   "source": [
    "#if name is not in basename list, delete the file\n",
    "for i in tiles_path:\n",
    "    if os.path.basename(i) in tif_basename :\n",
    "        continue\n",
    "    else:\n",
    "        os.remove(i)"
   ]
  },
  {
   "cell_type": "markdown",
   "metadata": {},
   "source": [
    "#### Change the nodata"
   ]
  },
  {
   "cell_type": "code",
   "execution_count": 190,
   "metadata": {},
   "outputs": [
    {
     "data": {
      "text/plain": [
       "1261"
      ]
     },
     "execution_count": 190,
     "metadata": {},
     "output_type": "execute_result"
    }
   ],
   "source": [
    "tiles=glob.glob('intact_forest/tiles_2016/*.tif')\n",
    "len(tiles)"
   ]
  },
  {
   "cell_type": "code",
   "execution_count": 191,
   "metadata": {},
   "outputs": [
    {
     "data": {
      "text/plain": [
       "'intact_forest/tiles_2016/intact_forest_tile_8704_3584.tif'"
      ]
     },
     "execution_count": 191,
     "metadata": {},
     "output_type": "execute_result"
    }
   ],
   "source": [
    "tiles[0]"
   ]
  },
  {
   "cell_type": "code",
   "execution_count": 192,
   "metadata": {},
   "outputs": [],
   "source": [
    "for img in tiles:\n",
    "    hdf_ds = gdal.Open(img, gdal.GA_ReadOnly)\n",
    "    array_img=hdf_ds.ReadAsArray()\n",
    "    # change the nodata -32768 >>>>> 0\n",
    "    np_where_img = numpy.where((array_img==-32768),0,(array_img))\n",
    "    #####################################\n",
    "    s_srs = hdf_ds.GetProjectionRef()\n",
    "    osng = osr.SpatialReference ()\n",
    "    osng.SetFromUserInput (s_srs)\n",
    "    geo_t = hdf_ds.GetGeoTransform ()\n",
    "    x_size = hdf_ds.RasterXSize # Raster xsize\n",
    "    y_size = hdf_ds.RasterYSize # Raster ysize\n",
    "    #create gdal memory file\n",
    "    mem_drv = gdal.GetDriverByName( 'MEM' )\n",
    "    dest = mem_drv.Create('', x_size,y_size, 1, gdal.GDT_Int16)\n",
    "    dest.SetGeoTransform( geo_t )\n",
    "    dest.SetProjection ( osng.ExportToWkt() )\n",
    "    #dest.GetRasterBand(1).SetNoDataValue(-32768)\n",
    "    dest.GetRasterBand(1).WriteArray(np_where_img)\n",
    "    name=os.path.basename(img) \n",
    "    output_path='intact_forest/tiles_2016_recalc/'+name\n",
    "    gdal.Warp(output_path, dest, format = 'GTiff')\n",
    "    dest=None\n",
    "    mem_drv=None\n",
    "    np_where_img=None"
   ]
  },
  {
   "cell_type": "code",
   "execution_count": null,
   "metadata": {},
   "outputs": [],
   "source": []
  }
 ],
 "metadata": {
  "kernelspec": {
   "display_name": "Python 3",
   "language": "python",
   "name": "python3"
  },
  "language_info": {
   "codemirror_mode": {
    "name": "ipython",
    "version": 3
   },
   "file_extension": ".py",
   "mimetype": "text/x-python",
   "name": "python",
   "nbconvert_exporter": "python",
   "pygments_lexer": "ipython3",
   "version": "3.8.5"
  }
 },
 "nbformat": 4,
 "nbformat_minor": 4
}
