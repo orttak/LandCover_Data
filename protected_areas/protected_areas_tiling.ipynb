{
 "cells": [
  {
   "cell_type": "code",
   "execution_count": 1,
   "metadata": {},
   "outputs": [],
   "source": [
    "import pandas as pd\n",
    "import geopandas as gpd\n",
    "from osgeo import gdal, ogr,osr\n",
    "import os\n",
    "import glob\n",
    "import numpy"
   ]
  },
  {
   "cell_type": "code",
   "execution_count": 5,
   "metadata": {},
   "outputs": [],
   "source": [
    "#\n",
    "#  After tiling process, we merge all tile in WDPA_All folder and copy this file into data server'''\n",
    "#"
   ]
  },
  {
   "cell_type": "code",
   "execution_count": 5,
   "metadata": {},
   "outputs": [
    {
     "name": "stdout",
     "output_type": "stream",
     "text": [
      "CPU times: user 88.7 ms, sys: 72.9 ms, total: 162 ms\n",
      "Wall time: 3.95 s\n"
     ]
    }
   ],
   "source": [
    "%%time\n",
    "# input mosaic tif file\n",
    "img='protected_areas_shp/WDPA_WDOECM_WA_shp/WDPA_categorized.tif'\n",
    "# define tiles path\n",
    "path='protected_areas_shp/WDPA_WDOECM_WA_shp/Tiles_WDPA_WA_IUCN_CAT'\n",
    "input_path=img\n",
    "\n",
    "# name of tile image\n",
    "shortname_of_continental='WA'\n",
    "output_path=path+f'/{shortname_of_continental}_WDPA_tile_'\n",
    "ds = gdal.Open(img)\n",
    "band = ds.GetRasterBand(1)\n",
    "xsize = band.XSize\n",
    "ysize = band.YSize\n",
    "# define your tile size\n",
    "# it could be 256,512 or 1024. it depends on your scope\n",
    "tile_size_x = 1024\n",
    "tile_size_y = 1024\n",
    "for i in range(0, xsize, tile_size_x):\n",
    "    if xsize-i < tile_size_x:\n",
    "        i=xsize-tile_size_x            \n",
    "    for j in range(0, ysize, tile_size_y):\n",
    "        if ysize-j < tile_size_y:\n",
    "            j=ysize-tile_size_y\n",
    "\n",
    "        com_string = \"gdal_translate -of GTIFF -srcwin \" + str(i)+ \", \" + str(j) + \", \" + str(tile_size_x) + \", \" + str(tile_size_y) + \" \" + str(input_path)+ \" \" + str(output_path)  + str(i) + \"_\" + str(j) + \".tif\"\n",
    "        #print(com_string)\n",
    "        os.system(com_string)\n",
    "    \n",
    "# with this block, we delete tiles that include just nodata\n",
    "tiles=glob.glob(path+'/*')\n",
    "for img in tiles:\n",
    "    hdf_ds = gdal.Open(img, gdal.GA_ReadOnly)\n",
    "    array_img=hdf_ds.ReadAsArray()\n",
    "    #np_where_img = numpy.where((array_img<0),-32768,(array_img))\n",
    "    np_where_img=array_img\n",
    "    check=numpy.all(np_where_img==-32768)\n",
    "    # if np_where_img all value equal nodata value\n",
    "    # remove the img\n",
    "    if check:\n",
    "        os.remove(img)\n",
    "        continue\n",
    "\n",
    "array_img=None\n",
    "np_where_img=None   \n",
    "\n"
   ]
  },
  {
   "cell_type": "code",
   "execution_count": null,
   "metadata": {},
   "outputs": [],
   "source": []
  },
  {
   "cell_type": "code",
   "execution_count": null,
   "metadata": {},
   "outputs": [],
   "source": []
  }
 ],
 "metadata": {
  "kernelspec": {
   "display_name": "Python 3",
   "language": "python",
   "name": "python3"
  },
  "language_info": {
   "codemirror_mode": {
    "name": "ipython",
    "version": 3
   },
   "file_extension": ".py",
   "mimetype": "text/x-python",
   "name": "python",
   "nbconvert_exporter": "python",
   "pygments_lexer": "ipython3",
   "version": "3.8.5"
  }
 },
 "nbformat": 4,
 "nbformat_minor": 4
}
