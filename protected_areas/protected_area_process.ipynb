{
 "cells": [
  {
   "cell_type": "code",
   "execution_count": 2,
   "metadata": {},
   "outputs": [],
   "source": [
    "# target column >>>>>>>  IUCN_CAT"
   ]
  },
  {
   "cell_type": "code",
   "execution_count": 56,
   "metadata": {},
   "outputs": [],
   "source": [
    "import pandas as pd\n",
    "import geopandas as gpd\n",
    "from osgeo import gdal, ogr,osr\n",
    "import os\n",
    "import glob"
   ]
  },
  {
   "cell_type": "code",
   "execution_count": 97,
   "metadata": {},
   "outputs": [],
   "source": [
    "# for this process, first we get 3 polygon from raw data and\n",
    "# merge all data in qgis(vector>>merge) \n",
    "#then, we read data and use the f function to create new column which compose from IUCN class\n",
    "merged_path='protected_areas_shp/WDPA_WDOECM_WA_shp (1)/WDPA_WDOECM_merged.shp'\n",
    "protected=gpd.read_file(merged_path)"
   ]
  },
  {
   "cell_type": "code",
   "execution_count": 98,
   "metadata": {},
   "outputs": [],
   "source": [
    "#copy raw df.\n",
    "df_protected=protected.copy()"
   ]
  },
  {
   "cell_type": "code",
   "execution_count": 99,
   "metadata": {},
   "outputs": [
    {
     "data": {
      "text/plain": [
       "array(['Not Reported', 'IV', 'Ia', 'V', 'III', 'VI', 'Ib', 'II',\n",
       "       'Not Applicable', 'Not Assigned'], dtype=object)"
      ]
     },
     "execution_count": 99,
     "metadata": {},
     "output_type": "execute_result"
    }
   ],
   "source": [
    "protected['IUCN_CAT'].unique()"
   ]
  },
  {
   "cell_type": "code",
   "execution_count": 100,
   "metadata": {},
   "outputs": [],
   "source": [
    "un_class={ 'Ia':10,'Ib':1,'II':2, 'III':3,'IV':4,'V':5,'VI':6,'Not Assigned':7,'Not Reported':8,'Not Applicable':9}"
   ]
  },
  {
   "cell_type": "code",
   "execution_count": 101,
   "metadata": {},
   "outputs": [],
   "source": [
    "# function to create new column\n",
    "def f(row):\n",
    "    un_cls= row['IUCN_CAT']\n",
    "    val=un_class[un_cls]\n",
    "    return val\n"
   ]
  },
  {
   "cell_type": "code",
   "execution_count": 102,
   "metadata": {},
   "outputs": [],
   "source": [
    "#appyl function to each row\n",
    "df_protected['IUCN_Classes'] = df_protected.apply(f, axis=1)"
   ]
  },
  {
   "cell_type": "code",
   "execution_count": 103,
   "metadata": {},
   "outputs": [],
   "source": [
    "last_shp_file='protected_areas_shp/WDPA_WDOECM_WA_shp (1)/WDPA_SA_categorical.shp'"
   ]
  },
  {
   "cell_type": "code",
   "execution_count": 104,
   "metadata": {},
   "outputs": [],
   "source": [
    "df_protected.to_file(last_shp_file,driver='ESRI Shapefile')"
   ]
  },
  {
   "cell_type": "code",
   "execution_count": 79,
   "metadata": {},
   "outputs": [
    {
     "data": {
      "text/plain": [
       "'\\nAfter export categorical data go to Qgis and use vector to raster function. For this process we use >>>\\n- filed to use for burn: IUCN_Classes\\n- A fixed value to nurn: -32768\\n- output rastersize unit: Georefenced units\\n- resolution: 0.003*0.003 which approximately 333 m \\n- no data: -32768\\n. data type: int16\\n'"
      ]
     },
     "execution_count": 79,
     "metadata": {},
     "output_type": "execute_result"
    }
   ],
   "source": [
    "'''\n",
    "After export categorical data go to Qgis and use vector to raster function. For this process we use >>>\n",
    "- filed to use for burn: IUCN_Classes\n",
    "- A fixed value to nurn: -32768\n",
    "- output rastersize unit: Georefenced units\n",
    "- resolution: 0.003*0.003 which approximately 333 m \n",
    "- no data: -32768\n",
    ". data type: int16\n",
    "\n",
    "Last step of this process create tiling. Go to \"protected_areas_tiling\" notebook\n",
    "'''"
   ]
  },
  {
   "cell_type": "code",
   "execution_count": null,
   "metadata": {},
   "outputs": [],
   "source": []
  }
 ],
 "metadata": {
  "kernelspec": {
   "display_name": "Python 3",
   "language": "python",
   "name": "python3"
  },
  "language_info": {
   "codemirror_mode": {
    "name": "ipython",
    "version": 3
   },
   "file_extension": ".py",
   "mimetype": "text/x-python",
   "name": "python",
   "nbconvert_exporter": "python",
   "pygments_lexer": "ipython3",
   "version": "3.8.5"
  }
 },
 "nbformat": 4,
 "nbformat_minor": 4
}
