{
 "cells": [
  {
   "cell_type": "markdown",
   "metadata": {},
   "source": [
    "### Calculating annual mean value of self-calibrating Palmer Drought Severity Index (scPDSI) tif files\n",
    "https://crudata.uea.ac.uk/cru/data/drought/#global"
   ]
  },
  {
   "cell_type": "code",
   "execution_count": 15,
   "metadata": {},
   "outputs": [],
   "source": [
    "from osgeo import gdal, osr\n",
    "import os\n",
    "import numpy as np\n",
    "import dask.array as da\n",
    "import time\n",
    "import dask\n",
    "import imageio\n",
    "import glob\n"
   ]
  },
  {
   "cell_type": "code",
   "execution_count": 4,
   "metadata": {},
   "outputs": [],
   "source": [
    "folder_list=glob.glob('../data/drought/*/')\n",
    "folder_list=sorted(folder_list)"
   ]
  },
  {
   "cell_type": "code",
   "execution_count": 6,
   "metadata": {},
   "outputs": [],
   "source": [
    "yearly_imgs_list = [sorted(glob.glob(folder+'*.tif')) for folder in folder_list]"
   ]
  },
  {
   "cell_type": "code",
   "execution_count": 23,
   "metadata": {},
   "outputs": [
    {
     "name": "stdout",
     "output_type": "stream",
     "text": [
      "CPU times: user 4.07 s, sys: 549 ms, total: 4.62 s\n",
      "Wall time: 4.26 s\n"
     ]
    }
   ],
   "source": [
    "%%time\n",
    "for index,imgs in enumerate(yearly_imgs_list):\n",
    "    image_status=False\n",
    "    counter=0\n",
    "    while image_status is False:\n",
    "        try:            \n",
    "            output_folder='../data/drought/mean_ndvi/'              \n",
    "                \n",
    "            target_imgs=[item for item in imgs]\n",
    "            \n",
    "            array_list=[]\n",
    "            for index,img in enumerate(target_imgs):\n",
    "                ds = gdal.Open(img)\n",
    "                array=ds.ReadAsArray()\n",
    "                dask_array=da.from_array(array,chunks=len(array)/2)\n",
    "                array_list.append(dask_array)\n",
    "            \n",
    "            stack = da.stack(array_list, axis=0)\n",
    "            max_array=stack.mean(axis=0).compute()\n",
    "            \n",
    "            s_srs = ds.GetProjectionRef()    \n",
    "            osng = osr.SpatialReference ()\n",
    "                       \n",
    "            #use last img to define name of the last product\n",
    "            folder_name=img.split('/')[-2]\n",
    "            \n",
    "            osng.SetFromUserInput ( s_srs )    \n",
    "            geo_t = ds.GetGeoTransform ()    \n",
    "            x_size = ds.RasterXSize # Raster xsize\n",
    "            y_size = ds.RasterYSize # Raster ysize\n",
    "            mem_drv= gdal.GetDriverByName( 'MEM')\n",
    "            dest = mem_drv.Create('', x_size,y_size, 1)\n",
    "            dest.SetGeoTransform( geo_t )\n",
    "            dest.SetProjection( osng.ExportToWkt())\n",
    "            dest.GetRasterBand(1).WriteArray(max_array)\n",
    "            output_max_path=output_folder+'Drought_scPDSI_Mean_'+folder_name+'.tif'\n",
    "            gdal.Warp(output_max_path, dest, format = 'GTiff')\n",
    "            max_array=None\n",
    "            dest=None\n",
    "            ds=None\n",
    "            mem_drv=None\n",
    "            image_status=True\n",
    "            #print(output_max_path)\n",
    "            \n",
    "        except:            \n",
    "            image_status=False\n",
    "            counter+=1\n",
    "            if counter==10:\n",
    "                print('couldnt be calculated')\n",
    "                break\n",
    "            continue\n",
    "    "
   ]
  },
  {
   "cell_type": "code",
   "execution_count": null,
   "metadata": {},
   "outputs": [],
   "source": []
  }
 ],
 "metadata": {
  "kernelspec": {
   "display_name": "Python 3",
   "language": "python",
   "name": "python3"
  },
  "language_info": {
   "codemirror_mode": {
    "name": "ipython",
    "version": 3
   },
   "file_extension": ".py",
   "mimetype": "text/x-python",
   "name": "python",
   "nbconvert_exporter": "python",
   "pygments_lexer": "ipython3",
   "version": "3.6.9"
  }
 },
 "nbformat": 4,
 "nbformat_minor": 4
}
