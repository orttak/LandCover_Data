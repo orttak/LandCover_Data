{
 "cells": [
  {
   "cell_type": "markdown",
   "metadata": {},
   "source": [
    "### Convert RELATIVE MAGNITUDE OF FRAGMENTATION (RMF) .nc file to TIF file\n",
    "https://portal.geobon.org/ebv-detail?id=4"
   ]
  },
  {
   "cell_type": "code",
   "execution_count": 5,
   "metadata": {},
   "outputs": [],
   "source": [
    "from osgeo import gdal,ogr,osr\n",
    "import os\n",
    "import glob\n",
    "import numpy"
   ]
  },
  {
   "cell_type": "code",
   "execution_count": null,
   "metadata": {},
   "outputs": [],
   "source": []
  },
  {
   "cell_type": "code",
   "execution_count": 3,
   "metadata": {},
   "outputs": [],
   "source": [
    "drougt_nc_path='../data/rmf/RMF_002.nc'"
   ]
  },
  {
   "cell_type": "code",
   "execution_count": 4,
   "metadata": {},
   "outputs": [],
   "source": [
    "years=[]\n",
    "for i in range(1992,2019):\n",
    "    years.append(i)"
   ]
  },
  {
   "cell_type": "code",
   "execution_count": null,
   "metadata": {},
   "outputs": [],
   "source": [
    "tif_folder_path='../data/rmf/rmf_tif'\n",
    "for index,year in enumerate(years,1):\n",
    "    #print(index)    \n",
    "    \n",
    "    tif_name=tif_folder_path+'/relative_magnitude_fragmentation_'+str(year)+'.tif'\n",
    "    #print(tif_name)\n",
    "    command = \"gdal_translate -of GTiff -b %s -a_srs EPSG:4326 \\\"%s\\\" %s\" % (index,drougt_nc_path,tif_name)\n",
    "    print(command)\n",
    "    #os.system(command)    \n",
    "    "
   ]
  },
  {
   "cell_type": "code",
   "execution_count": null,
   "metadata": {},
   "outputs": [],
   "source": []
  },
  {
   "cell_type": "code",
   "execution_count": 13,
   "metadata": {},
   "outputs": [],
   "source": [
    "####################\n",
    "# Define TIF folder\n",
    "###################\n",
    "tif_folder_path='../data/rmf/rmf_tif'\n",
    "for index,year in enumerate(years,1):\n",
    "    #print(index)    \n",
    "    \n",
    "    tif_name=tif_folder_path+'/relative_magnitude_fragmentation_'+str(year)+'.tif'\n",
    "    #print(tif_name)\n",
    "    command = \"gdal_translate -of GTiff -b %s -a_srs EPSG:4326 \\\"%s\\\" %s\" % (index,drougt_nc_path,tif_name)\n",
    "    #print(command)\n",
    "    os.system(command)\n",
    "    \n",
    "    path='../data/rmf/rmf_tiles/'\n",
    "    input_path=tif_name\n",
    "    year_info=str(year)\n",
    "    tiles_path=path+'relative_magnitude_fragmentation_'+year_info\n",
    "    try:\n",
    "        os.mkdir(tiles_path)\n",
    "    except:\n",
    "        pass\n",
    "    \n",
    "    \n",
    "    output_path=tiles_path+'/rmf_tile_'\n",
    "    ds = gdal.Open(input_path)\n",
    "    band = ds.GetRasterBand(1)\n",
    "    xsize = band.XSize\n",
    "    ysize = band.YSize\n",
    "    tile_size_x = 1024\n",
    "    tile_size_y = 1024\n",
    "    for i in range(0, xsize, tile_size_x):\n",
    "        if xsize-i < tile_size_x:\n",
    "            i=xsize-tile_size_x            \n",
    "        for j in range(0, ysize, tile_size_y):\n",
    "            if ysize-j < tile_size_y:\n",
    "                j=ysize-tile_size_y\n",
    "    \n",
    "            com_string = \"gdal_translate -of GTIFF -srcwin \" + str(i)+ \", \" + str(j) + \", \" + str(tile_size_x) + \", \" + str(tile_size_y) + \" \" + str(input_path)+ \" \" + str(output_path)  + str(i) + \"_\" + str(j) + \".tif\"\n",
    "            #print(com_string)\n",
    "            os.system(com_string)\n",
    "        \n",
    "\n",
    "    tiles=glob.glob(tiles_path+'/*')\n",
    "    for img in tiles:\n",
    "        hdf_ds = gdal.Open(img, gdal.GA_ReadOnly)\n",
    "        array_img=hdf_ds.ReadAsArray()\n",
    "        check=numpy.all(array_img==65535)\n",
    "        if check:\n",
    "            os.remove(img)\n",
    "            continue\n",
    "    print(year_info)\n",
    "    array_img=None\n",
    "    np_where_img=None\n",
    "    os.remove(input_path)        \n",
    "        "
   ]
  },
  {
   "cell_type": "code",
   "execution_count": null,
   "metadata": {},
   "outputs": [],
   "source": []
  }
 ],
 "metadata": {
  "kernelspec": {
   "display_name": "Python 3",
   "language": "python",
   "name": "python3"
  },
  "language_info": {
   "codemirror_mode": {
    "name": "ipython",
    "version": 3
   },
   "file_extension": ".py",
   "mimetype": "text/x-python",
   "name": "python",
   "nbconvert_exporter": "python",
   "pygments_lexer": "ipython3",
   "version": "3.6.9"
  }
 },
 "nbformat": 4,
 "nbformat_minor": 4
}
