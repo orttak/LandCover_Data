{
 "cells": [
  {
   "cell_type": "markdown",
   "metadata": {},
   "source": [
    "#### Global Mountain Explorer (GME)\n",
    "website:   https://rmgsc.cr.usgs.gov/gme/\n",
    "\n",
    "data link: https://rmgsc.cr.usgs.gov/outgoing/ecosystems/Global/\n",
    "\n",
    "Our purpose is manipulate this dataset according our model's demand. Dataset default nodata value is 0 and we want to change this. Over the land zero will represent flat surface and over other place(sea,ocean) nodata value will -32768."
   ]
  },
  {
   "cell_type": "markdown",
   "metadata": {},
   "source": [
    "vector to raster process with gdal\n",
    "\n",
    "gdal_rasterize -l countries_border -burn 1.0 -tr 0.002083333333 0.002083333333 -a_nodata 0.0 -te lower_left upper right -ot Byte -of GTiff world_shp/countries_border.shp \"world_shp/rasterize_shp.tif\""
   ]
  },
  {
   "cell_type": "code",
   "execution_count": null,
   "metadata": {},
   "outputs": [],
   "source": [
    "# rasterize world shp file\n",
    "gdal_rasterize -l countries_border -burn 1.0 -tr 0.01 0.01 -a_nodata 0.0 -te lower_left upper right -ot Byte -of GTiff world_shp/countries_border.shp \"world_shp/rasterize_1km/rasterize_shp.tif\""
   ]
  },
  {
   "cell_type": "code",
   "execution_count": null,
   "metadata": {},
   "outputs": [],
   "source": []
  },
  {
   "cell_type": "code",
   "execution_count": null,
   "metadata": {},
   "outputs": [],
   "source": [
    "from osgeo import ogr, gdal, osr\n",
    "import os \n",
    "import geopandas as gpd\n",
    "from shapely.geometry import Point\n",
    "import numpy as np\n",
    "import glob\n",
    "import matplotlib.pyplot as plt\n",
    "%matplotlib inline"
   ]
  },
  {
   "cell_type": "code",
   "execution_count": null,
   "metadata": {},
   "outputs": [],
   "source": [
    "# we create tile from target image\n",
    "img='../data/world_shp/rasterize_shp.tif'\n",
    "output_path='../data/world_shp/tilesV2/world_shp_tile_'\n",
    "input_path=img\n",
    "ds = gdal.Open(img)\n",
    "band = ds.GetRasterBand(1)\n",
    "xsize = band.XSize\n",
    "ysize = band.YSize\n",
    "# define your tile size\n",
    "# it could be 256,512 or 1024. it depends on your scope\n",
    "tile_size_x = 1024\n",
    "tile_size_y = 1024\n",
    "for i in range(0, xsize, tile_size_x):\n",
    "    if xsize-i < tile_size_x:\n",
    "        i=xsize-tile_size_x            \n",
    "    for j in range(0, ysize, tile_size_y):\n",
    "        if ysize-j < tile_size_y:\n",
    "            j=ysize-tile_size_y\n",
    "\n",
    "        com_string = \"gdal_translate -of GTIFF -srcwin \" + str(i)+ \", \" + str(j) + \", \" + str(tile_size_x) + \", \" + str(tile_size_y) + \" \" + str(input_path)+ \" \" + str(output_path)  + str(i) + \"_\" + str(j) + \".tif\"\n",
    "        #print(com_string)\n",
    "        os.system(com_string)"
   ]
  },
  {
   "cell_type": "code",
   "execution_count": null,
   "metadata": {},
   "outputs": [],
   "source": [
    "img_tiles=glob.glob('../data/GlobalMountainsK3Binary/tilesV2/*.tif')\n",
    "img_tiles=sorted(img_tiles)"
   ]
  },
  {
   "cell_type": "code",
   "execution_count": null,
   "metadata": {},
   "outputs": [],
   "source": [
    "img_tiles[0:10]"
   ]
  },
  {
   "cell_type": "code",
   "execution_count": null,
   "metadata": {},
   "outputs": [],
   "source": [
    "len(img_tiles)"
   ]
  },
  {
   "cell_type": "code",
   "execution_count": null,
   "metadata": {},
   "outputs": [],
   "source": []
  },
  {
   "cell_type": "code",
   "execution_count": null,
   "metadata": {},
   "outputs": [],
   "source": [
    "shp_tiles=glob.glob('../data/world_shp/tilesV2/*.tif')\n",
    "shp_tiles=sorted(shp_tiles)"
   ]
  },
  {
   "cell_type": "code",
   "execution_count": null,
   "metadata": {},
   "outputs": [],
   "source": [
    "len(shp_tiles)"
   ]
  },
  {
   "cell_type": "code",
   "execution_count": null,
   "metadata": {},
   "outputs": [],
   "source": [
    "shp_tiles[0][-8:]"
   ]
  },
  {
   "cell_type": "code",
   "execution_count": null,
   "metadata": {},
   "outputs": [],
   "source": [
    "shp_tiles[12][-11:]"
   ]
  },
  {
   "cell_type": "code",
   "execution_count": null,
   "metadata": {},
   "outputs": [],
   "source": [
    "shp_tiles[12][-8:]==img_tiles[12][-8:]"
   ]
  },
  {
   "cell_type": "code",
   "execution_count": null,
   "metadata": {},
   "outputs": [],
   "source": [
    "# delete nodata tiles in target folders.\n",
    "# we define no-land area from raster that produced from shp file\n",
    "count=0\n",
    "for index, img in enumerate(shp_tiles,0):\n",
    "    #print(img_tiles[index][-12:])\n",
    "    #print(i[-12:])\n",
    "    hdf_ds = gdal.Open(img, gdal.GA_ReadOnly)\n",
    "    array_img=hdf_ds.ReadAsArray()\n",
    "    check=np.all(array_img==0)\n",
    "    # if np_where_img all value equal nodata value\n",
    "    # remove the img\n",
    "    if check:\n",
    "        count+=1\n",
    "        if img[-11:]!=img_tiles[index][-11:]:\n",
    "            print(index)\n",
    "            print(img)\n",
    "            print(img_tiles[index])\n",
    "            print('---')\n",
    "        os.remove(img)\n",
    "        os.remove(img_tiles[index])\n",
    "        continue\n",
    "count\n"
   ]
  },
  {
   "cell_type": "code",
   "execution_count": null,
   "metadata": {},
   "outputs": [],
   "source": [
    "img_tiles_after=glob.glob('../data/GlobalMountainsK3Binary/tilesV2/*.tif')\n",
    "img_tiles_after=sorted(img_tiles_after)"
   ]
  },
  {
   "cell_type": "code",
   "execution_count": null,
   "metadata": {},
   "outputs": [],
   "source": [
    "len(img_tiles_after)"
   ]
  },
  {
   "cell_type": "code",
   "execution_count": null,
   "metadata": {},
   "outputs": [],
   "source": [
    "len(shp_tiles_after)"
   ]
  },
  {
   "cell_type": "code",
   "execution_count": null,
   "metadata": {},
   "outputs": [],
   "source": [
    "shp_tiles_after=glob.glob('../data/world_shp/tilesV2/*.tif')\n",
    "shp_tiles_after=sorted(shp_tiles_after)"
   ]
  },
  {
   "cell_type": "code",
   "execution_count": null,
   "metadata": {},
   "outputs": [],
   "source": [
    "counter=0\n",
    "for index,img in enumerate(shp_tiles_after,0):\n",
    "    if img[-12:]!=img_tiles_after[index][-12:]:\n",
    "        print(img)\n",
    "        print(img_tiles_after[index])"
   ]
  },
  {
   "cell_type": "code",
   "execution_count": null,
   "metadata": {},
   "outputs": [],
   "source": [
    "shp_tiles_after[0][34:]"
   ]
  },
  {
   "cell_type": "code",
   "execution_count": null,
   "metadata": {},
   "outputs": [],
   "source": [
    "for index,img in enumerate(shp_tiles_after,0):\n",
    "    shp_img = gdal.Open(img, gdal.GA_ReadOnly)\n",
    "    shp_array=shp_img.ReadAsArray()\n",
    "    target_img = gdal.Open(img_tiles_after[index], gdal.GA_ReadOnly)\n",
    "    target_array=target_img.ReadAsArray()\n",
    "    sum_img=target_array+shp_array\n",
    "    np_where_img = np.where((sum_img==0),-32768,(sum_img))\n",
    "    np_where_img = np.where((np_where_img==1),0,(np_where_img))\n",
    "    np_where_img = np.where((np_where_img==2),1,(np_where_img))\n",
    "    s_srs = target_img.GetProjectionRef()\n",
    "    osng = osr.SpatialReference ()\n",
    "    osng.SetFromUserInput ( s_srs )\n",
    "    geo_t = target_img.GetGeoTransform ()\n",
    "    x_size = target_img.RasterXSize # Raster xsize\n",
    "    y_size = target_img.RasterYSize # Raster ysize\n",
    "    #create gdal memory file\n",
    "    mem_drv = gdal.GetDriverByName( 'MEM' )\n",
    "    dest = mem_drv.Create('', x_size,y_size, 1, gdal.GDT_Int16)\n",
    "    dest.GetRasterBand(1).WriteArray(np_where_img)\n",
    "    dest.SetGeoTransform( geo_t )\n",
    "    dest.SetProjection ( osng.ExportToWkt() )\n",
    "    dest.GetRasterBand(1).SetNoDataValue(-32768)\n",
    "    out_name=str(img[34:])\n",
    "    \n",
    "    output_path='../data/GlobalMountainsK3Binary/tiles_new_calcV2/k3binary_'+out_name\n",
    "    #print(output_path)\n",
    "    gdal.Warp(output_path, dest, format = 'GTiff',srcNodata=-32768,dstNodata=-32768)\n",
    "    dest=None"
   ]
  },
  {
   "cell_type": "code",
   "execution_count": null,
   "metadata": {},
   "outputs": [],
   "source": [
    "a=glob.glob('../data/GlobalMountainsK3Binary/tiles_new_calcV2/*.tif')\n",
    "len(a)\n"
   ]
  },
  {
   "cell_type": "code",
   "execution_count": null,
   "metadata": {},
   "outputs": [],
   "source": [
    "imgplot = plt.imshow(np_where_img)"
   ]
  },
  {
   "cell_type": "code",
   "execution_count": null,
   "metadata": {},
   "outputs": [],
   "source": [
    "img"
   ]
  },
  {
   "cell_type": "code",
   "execution_count": null,
   "metadata": {},
   "outputs": [],
   "source": [
    "def pixelOffset2coord(geotransform,xOffset,yOffset):\n",
    "    originX = geotransform[0]\n",
    "    originY = geotransform[3]\n",
    "    pixelWidth = geotransform[1]\n",
    "    pixelHeight = geotransform[5]\n",
    "    coordX = originX+pixelWidth*xOffset\n",
    "    coordY = originY+pixelHeight*yOffset\n",
    "    return coordX, coordY\n"
   ]
  },
  {
   "cell_type": "code",
   "execution_count": null,
   "metadata": {},
   "outputs": [],
   "source": []
  }
 ],
 "metadata": {
  "kernelspec": {
   "display_name": "Python 3",
   "language": "python",
   "name": "python3"
  },
  "language_info": {
   "codemirror_mode": {
    "name": "ipython",
    "version": 3
   },
   "file_extension": ".py",
   "mimetype": "text/x-python",
   "name": "python",
   "nbconvert_exporter": "python",
   "pygments_lexer": "ipython3",
   "version": "3.6.9"
  }
 },
 "nbformat": 4,
 "nbformat_minor": 4
}
